{
 "cells": [
  {
   "cell_type": "markdown",
   "id": "9e1ac246-10f3-45b7-b09b-ee03b9a00505",
   "metadata": {},
   "source": [
    "# TOPIC: Python Basics Variable"
   ]
  },
  {
   "cell_type": "markdown",
   "id": "ba04a232-91c5-4914-90f7-e274b615d390",
   "metadata": {},
   "source": [
    "#### 1. Declare two variables, `x` and `y`, and assign them integer values. Swap the values of these variables without using any temporary variable\r"
   ]
  },
  {
   "cell_type": "code",
   "execution_count": 5,
   "id": "c92a1d56-5f22-4c25-98e2-9c3486ee7fff",
   "metadata": {},
   "outputs": [],
   "source": [
    "x=10\n",
    "y=20\n",
    "x,y=y,x"
   ]
  },
  {
   "cell_type": "code",
   "execution_count": 6,
   "id": "540dd51f-071f-4b8b-8a89-20ca437614e4",
   "metadata": {},
   "outputs": [
    {
     "name": "stdout",
     "output_type": "stream",
     "text": [
      "The value of x after swap = 20\n",
      "The value of y after swap = 10\n"
     ]
    }
   ],
   "source": [
    "print(\"The value of x after swap =\",x)\n",
    "print(\"The value of y after swap =\",y)"
   ]
  },
  {
   "cell_type": "markdown",
   "id": "6ef02fb8-5790-4c18-ae02-a85a531036be",
   "metadata": {},
   "source": [
    "#### 2. Create a program that calculates the area of a rectangle. Take the length and width as inputs from the user and store them in variables.      Calculate and display the area."
   ]
  },
  {
   "cell_type": "code",
   "execution_count": 8,
   "id": "90f2d8d3-ab97-4444-b608-31dbc27b3993",
   "metadata": {},
   "outputs": [
    {
     "name": "stdin",
     "output_type": "stream",
     "text": [
      "lenth of the rectangle is 20\n",
      "width of the rectangle is 10\n"
     ]
    },
    {
     "name": "stdout",
     "output_type": "stream",
     "text": [
      "Area of the rectangle is  200.0\n"
     ]
    }
   ],
   "source": [
    "lenth=float(input(\"lenth of the rectangle is\"))\n",
    "width=float(input(\"width of the rectangle is\"))\n",
    "area=print(\"Area of the rectangle is \",lenth*width)"
   ]
  },
  {
   "cell_type": "markdown",
   "id": "f59e9018-84ad-412b-9e03-fb67284efec4",
   "metadata": {},
   "source": [
    "#### 3. Write a Python program that converts temperatures from Celsius to\n",
    "#### Fahrenheit.       Take the temperature in Celsius as input, store it in a variable,\n",
    "#### convert it to Fahrenheit, and display the result."
   ]
  },
  {
   "cell_type": "code",
   "execution_count": 9,
   "id": "972703f1-0d56-4e70-9470-95d38343574e",
   "metadata": {},
   "outputs": [],
   "source": [
    "# Formula of converting temparature from celcius to fahrenhit: (temperature in celcius *9/5)+32"
   ]
  },
  {
   "cell_type": "code",
   "execution_count": 10,
   "id": "702458b2-f089-4c1c-9070-49f76380c5ba",
   "metadata": {},
   "outputs": [
    {
     "name": "stdin",
     "output_type": "stream",
     "text": [
      "Temperature in celcius is : 40\n"
     ]
    },
    {
     "name": "stdout",
     "output_type": "stream",
     "text": [
      "Temperature in fahrenhit after converting from celcius 104.0 °f\n"
     ]
    }
   ],
   "source": [
    "cel_temp=float(input(\"Temperature in celcius is :\"))\n",
    "faren_temp=(cel_temp*9/5)+32\n",
    "print(\"Temperature in fahrenhit after converting from celcius\",faren_temp,\"°f\")"
   ]
  },
  {
   "cell_type": "markdown",
   "id": "73f9ecba-20cc-4958-b9c7-a9165dfcec19",
   "metadata": {},
   "source": [
    "# TOPIC: String Based Questions"
   ]
  },
  {
   "cell_type": "markdown",
   "id": "875fea18-9de9-4220-80a0-aea86ba61618",
   "metadata": {},
   "source": [
    "#### 1. Write a Python program that takes a string as input and prints the length of the string."
   ]
  },
  {
   "cell_type": "code",
   "execution_count": 11,
   "id": "ef07bb80-8d6c-43c6-95d8-2c0999bc3727",
   "metadata": {},
   "outputs": [
    {
     "name": "stdin",
     "output_type": "stream",
     "text": [
      "enter the string Asmita Das\n"
     ]
    },
    {
     "name": "stdout",
     "output_type": "stream",
     "text": [
      "The lenth of the string is 10\n"
     ]
    }
   ],
   "source": [
    "string=input(\"enter the string\")\n",
    "print(\"The lenth of the string is\",len(string))\n",
    "# here I input string as my name and surname with a space so the lenth of the string is 10 \n",
    "# otherwise if I don't give the space then the lenth of the string will be 9"
   ]
  },
  {
   "cell_type": "markdown",
   "id": "d8f08db8-3b58-4aed-a99b-17883f41d1e0",
   "metadata": {},
   "source": [
    "#### 2. Create a program that takes a sentence from the user and counts the number of vowels (a, e, i, o, u) in the string."
   ]
  },
  {
   "cell_type": "code",
   "execution_count": 12,
   "id": "573c748b-c6e8-4115-bda3-a223fe82efe4",
   "metadata": {},
   "outputs": [
    {
     "name": "stdin",
     "output_type": "stream",
     "text": [
      "the sentence is :  My name is Asmita Das\n"
     ]
    },
    {
     "name": "stdout",
     "output_type": "stream",
     "text": [
      "number of vowels in the string are : 7\n"
     ]
    }
   ],
   "source": [
    "vowels=('a','e','i','o','u')\n",
    "sentence=input(\"the sentence is : \")\n",
    "count=0\n",
    "for i in sentence:\n",
    "    i_low=i.lower()\n",
    "    if i_low in vowels:\n",
    "        count+=1\n",
    "print(\"number of vowels in the string are :\",count)\n",
    "    "
   ]
  },
  {
   "cell_type": "markdown",
   "id": "f647c82d-6457-4a33-93fc-76d681b7ac00",
   "metadata": {},
   "source": [
    "#### 3. Given a string, reverse the order of characters using string slicing and print the reversed string."
   ]
  },
  {
   "cell_type": "code",
   "execution_count": 17,
   "id": "20286e21-b4e5-4fb2-a4ac-ee83f706c369",
   "metadata": {},
   "outputs": [
    {
     "name": "stdin",
     "output_type": "stream",
     "text": [
      "Enter the string : My name is asmita das\n"
     ]
    },
    {
     "name": "stdout",
     "output_type": "stream",
     "text": [
      "The given string after reversed is : sad atimsa si eman yM\n"
     ]
    }
   ],
   "source": [
    "Given_string=input(\"Enter the string :\")\n",
    "reverse_string=print(\"The given string after reversed is :\",Given_string[::-1])"
   ]
  },
  {
   "cell_type": "markdown",
   "id": "251360ac-1fe0-4114-8566-c465908eb819",
   "metadata": {},
   "source": [
    "#### 4. Write a program that takes a string as input and checks if it is a palindrome (reads the same forwards and backwards)."
   ]
  },
  {
   "cell_type": "code",
   "execution_count": 22,
   "id": "ac2a6991-b4d2-4ce0-ada4-2d4d62896326",
   "metadata": {},
   "outputs": [
    {
     "name": "stdin",
     "output_type": "stream",
     "text": [
      "Enter the string : Malayalam\n"
     ]
    },
    {
     "name": "stdout",
     "output_type": "stream",
     "text": [
      "The string is a palindrome\n"
     ]
    }
   ],
   "source": [
    "string=input(\"Enter the string :\")\n",
    "string=string.lower()\n",
    "string=string.replace(\" \",\"\")\n",
    "reverse=string[::-1]\n",
    "if string== reverse:\n",
    "    print(\"The string is a palindrome\")\n",
    "else :\n",
    "    print(\"The string is not a palindrome\")"
   ]
  },
  {
   "cell_type": "markdown",
   "id": "5b94c1cf-886f-4dc3-ac9d-f0d74be81753",
   "metadata": {},
   "source": [
    "#### 5. Create a program that takes a string as input and removes all the spaces from it. Print the modified string without spaces."
   ]
  },
  {
   "cell_type": "code",
   "execution_count": 27,
   "id": "4afd16d0-56e7-402c-bfe9-c2d2419877ca",
   "metadata": {},
   "outputs": [
    {
     "name": "stdin",
     "output_type": "stream",
     "text": [
      "Enter the string : my name is asmita\n"
     ]
    },
    {
     "name": "stdout",
     "output_type": "stream",
     "text": [
      "modified string without spaces: mynameisasmita\n"
     ]
    }
   ],
   "source": [
    "string=input(\"Enter the string :\").replace(\" \",\"\")\n",
    "#string=string.replace(\" \",\"\")\n",
    "print(\"modified string without spaces:\",string)"
   ]
  },
  {
   "cell_type": "code",
   "execution_count": null,
   "id": "3ded484b-9349-40cc-93e4-a49e9c386ef7",
   "metadata": {},
   "outputs": [],
   "source": []
  }
 ],
 "metadata": {
  "kernelspec": {
   "display_name": "Python 3 (ipykernel)",
   "language": "python",
   "name": "python3"
  },
  "language_info": {
   "codemirror_mode": {
    "name": "ipython",
    "version": 3
   },
   "file_extension": ".py",
   "mimetype": "text/x-python",
   "name": "python",
   "nbconvert_exporter": "python",
   "pygments_lexer": "ipython3",
   "version": "3.10.9"
  }
 },
 "nbformat": 4,
 "nbformat_minor": 5
}
